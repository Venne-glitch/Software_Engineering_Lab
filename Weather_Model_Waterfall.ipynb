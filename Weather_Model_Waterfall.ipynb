{
  "nbformat": 4,
  "nbformat_minor": 0,
  "metadata": {
    "colab": {
      "provenance": [],
      "authorship_tag": "ABX9TyN66HNJuJBa7teSQd5mHLFK",
      "include_colab_link": true
    },
    "kernelspec": {
      "name": "python3",
      "display_name": "Python 3"
    },
    "language_info": {
      "name": "python"
    }
  },
  "cells": [
    {
      "cell_type": "markdown",
      "metadata": {
        "id": "view-in-github",
        "colab_type": "text"
      },
      "source": [
        "<a href=\"https://colab.research.google.com/github/Venne-glitch/Software_Engineering_Lab/blob/main/Weather_Model_Waterfall.ipynb\" target=\"_parent\"><img src=\"https://colab.research.google.com/assets/colab-badge.svg\" alt=\"Open In Colab\"/></a>"
      ]
    },
    {
      "cell_type": "markdown",
      "source": [
        "**Implementing Weather modeling using the quadratic model using Waterfall model**"
      ],
      "metadata": {
        "id": "6All5S0QF8GO"
      }
    },
    {
      "cell_type": "code",
      "execution_count": null,
      "metadata": {
        "id": "bxrIBhqvFLac"
      },
      "outputs": [],
      "source": [
        "import numpy as np\n",
        "import matplotlib.pyplot as plt\n",
        "from sklearn.model_selection import train_test_split\n",
        "from sklearn.metrics import mean_squared_error\n",
        "\n",
        "# Define the weather data collection phase (Waterfall Model)\n",
        "def collect_weather_data():\n",
        "    # Simulating synthetic data for weather (temperature vs. time)\n",
        "    np.random.seed(42)\n",
        "    days = np.linspace(0, 30, 100)  # 30 days of data\n",
        "    temperatures = 2 * days**2 - 5 * days + 20 + np.random.normal(0, 5, days.shape)\n",
        "    return days, temperatures\n",
        "\n",
        "# Define the training phase (Quadratic Model Fitting)\n",
        "def train_model(days, temperatures):\n",
        "    # Create a quadratic feature for days\n",
        "    X = np.column_stack((days**2, days, np.ones(days.shape)))  # X = [x^2, x, 1] for quadratic model\n",
        "    coefs = np.linalg.lstsq(X, temperatures, rcond=None)[0]  # Solve for a, b, c using least squares\n",
        "    return coefs\n",
        "\n",
        "# Define the prediction phase\n",
        "def predict_weather(days, coefs):\n",
        "    # Use the trained model to predict temperatures\n",
        "    a, b, c = coefs\n",
        "    predicted_temps = a * days**2 + b * days + c\n",
        "    return predicted_temps\n",
        "\n",
        "# Waterfall Model Implementation\n",
        "def weather_model_waterfall():\n",
        "    # Step 1: Collect Data\n",
        "    days, temperatures = collect_weather_data()\n",
        "\n",
        "    # Step 2: Train the Quadratic Model\n",
        "    coefs = train_model(days, temperatures)\n",
        "\n",
        "    # Step 3: Predict and plot\n",
        "    predicted_temps = predict_weather(days, coefs)\n",
        "\n",
        "    plt.scatter(days, temperatures, color='blue', label='Actual Data')\n",
        "    plt.plot(days, predicted_temps, color='red', label='Predicted Quadratic Model')\n",
        "    plt.title(\"Weather Modeling - Waterfall Model (Quadratic)\")\n",
        "    plt.xlabel(\"Days\")\n",
        "    plt.ylabel(\"Temperature\")\n",
        "    plt.legend()\n",
        "    plt.show()\n",
        "\n",
        "    print(\"Waterfall Model Coefficients (a, b, c):\", coefs)\n",
        "\n",
        "# Main Execution\n",
        "if __name__ == \"__main__\":\n",
        "    print(\"Running Waterfall Model...\")\n",
        "    weather_model_waterfall()\n"
      ]
    }
  ]
}