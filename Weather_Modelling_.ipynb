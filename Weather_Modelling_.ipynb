{
  "nbformat": 4,
  "nbformat_minor": 0,
  "metadata": {
    "colab": {
      "provenance": [],
      "authorship_tag": "ABX9TyOAscEpOMtYOJKc+mPBgnrZ",
      "include_colab_link": true
    },
    "kernelspec": {
      "name": "python3",
      "display_name": "Python 3"
    },
    "language_info": {
      "name": "python"
    }
  },
  "cells": [
    {
      "cell_type": "markdown",
      "metadata": {
        "id": "view-in-github",
        "colab_type": "text"
      },
      "source": [
        "<a href=\"https://colab.research.google.com/github/Venne-glitch/Software_Engineering_Lab/blob/main/Weather_Modelling_.ipynb\" target=\"_parent\"><img src=\"https://colab.research.google.com/assets/colab-badge.svg\" alt=\"Open In Colab\"/></a>"
      ]
    },
    {
      "cell_type": "markdown",
      "source": [
        "**Implement Weather modeling using the quadraticsolution in stages:**\n",
        "- User given input variable\n",
        "- Read from an input file\n",
        "- Single set of input\n",
        "- Multiple set of inputs"
      ],
      "metadata": {
        "id": "p4vOqWm028gw"
      }
    },
    {
      "cell_type": "markdown",
      "source": [
        "**USER-GIVEN INPUT VARIABLES**\n"
      ],
      "metadata": {
        "id": "iZQ0iPq74MG_"
      }
    },
    {
      "cell_type": "code",
      "execution_count": 6,
      "metadata": {
        "colab": {
          "base_uri": "https://localhost:8080/"
        },
        "collapsed": true,
        "id": "HyppcuI72r_J",
        "outputId": "860f8776-7083-4d5c-f20d-b553b49d6cd7"
      },
      "outputs": [
        {
          "name": "stdout",
          "output_type": "stream",
          "text": [
            "Enter the coeficient for 'a': 30\n",
            "Enter the coefficient for 'b': 50\n",
            "Enter the coefficient for 'c': 10\n"
          ]
        }
      ],
      "source": [
        "import math\n",
        "\n",
        "a = int(input(\"Enter the coeficient for 'a': \"))\n",
        "b = int(input(\"Enter the coefficient for 'b': \"))\n",
        "c = int(input(\"Enter the coefficient for 'c': \"))\n",
        "\n",
        "def Quadratic_Equation(a,b,c):\n",
        "  discriminent_formula = b*b - 4*a*c\n",
        "  if discriminent_formula>0:\n",
        "    r1 = (-b+math.sqrt(discriminent_formula)/(2*a))\n",
        "    r2 = (-b-math.sqrt(discriminent_formula)/(2*a))\n",
        "    return r1,r2\n",
        "\n",
        "  elif discriminent_formula == 0:\n",
        "    r = -b/(2*a)\n",
        "    return r, None\n",
        "  else:\n",
        "    return None,None"
      ]
    },
    {
      "cell_type": "code",
      "source": [
        "roots = Quadratic_Equation(a,b,c)\n",
        "print(\"The roots we obtain are: \",roots)"
      ],
      "metadata": {
        "colab": {
          "base_uri": "https://localhost:8080/"
        },
        "id": "N-X-5GJL9EfS",
        "outputId": "59d567cd-6e1f-45cd-c93d-03b167878af3"
      },
      "execution_count": 7,
      "outputs": [
        {
          "output_type": "stream",
          "name": "stdout",
          "text": [
            "The roots we obtain are:  (-49.39907478742267, -50.60092521257733)\n"
          ]
        }
      ]
    }
  ]
}