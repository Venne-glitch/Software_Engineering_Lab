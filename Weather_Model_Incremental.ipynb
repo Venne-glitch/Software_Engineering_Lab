{
  "nbformat": 4,
  "nbformat_minor": 0,
  "metadata": {
    "colab": {
      "provenance": [],
      "authorship_tag": "ABX9TyO9mSt+vADcCozcb0RW2BlF",
      "include_colab_link": true
    },
    "kernelspec": {
      "name": "python3",
      "display_name": "Python 3"
    },
    "language_info": {
      "name": "python"
    }
  },
  "cells": [
    {
      "cell_type": "markdown",
      "metadata": {
        "id": "view-in-github",
        "colab_type": "text"
      },
      "source": [
        "<a href=\"https://colab.research.google.com/github/Venne-glitch/Software_Engineering_Lab/blob/main/Weather_Model_Incremental.ipynb\" target=\"_parent\"><img src=\"https://colab.research.google.com/assets/colab-badge.svg\" alt=\"Open In Colab\"/></a>"
      ]
    },
    {
      "cell_type": "markdown",
      "source": [
        "**Implementing weather modeling using the quadratic model and using Incremental model**\n",
        "\n"
      ],
      "metadata": {
        "id": "LunpW039Gj6o"
      }
    },
    {
      "cell_type": "code",
      "execution_count": null,
      "metadata": {
        "id": "iFcVuv3FGXN6"
      },
      "outputs": [],
      "source": [
        "import numpy as np"
        "import pandas as pd"
        "from sklearn.linear_model import LinearRegression"
        "import matplotlib.pyplot as plt"

        "# Sample weather data (days, temperature)"
        "# In real scenarios, this data would be historical weather data"
        "weather_data = {"
         ""Day": np.arange(1, 16)," 
         ""Temperature": [30, 32, 34, 33, 31, 30, 32, 33, 35, 36, 37, 38, 35, 34, 33]" 
        "}"

        "# Convert the dictionary into a pandas DataFrame"
        "df = pd.DataFrame(weather_data)"

        "# Function to iteratively predict weather (temperature in this case)"
        "def iterative_weather_prediction(days_to_predict, df):"
        "# Extracting features (day) and target (temperature)"
        "X = df["Day"].values.reshape(-1, 1)  # Features (Day)"
        "y = df["Temperature"].values  # Target (Temperature)"

        "model = LinearRegression()"
        "predictions = []"

        "for i in range(days_to_predict):"
        "# Train the model on existing data"
        "model.fit(X, y)"

        "# Predict temperature for the next day"
        "next_day = np.array([[df["Day"].max() + 1]])"
        "predicted_temp = model.predict(next_day)[0]"
        
        "# Append prediction"
        "predictions.append(predicted_temp)"

        "# Update the dataframe with the new day and predicted temperature"
        "new_data = pd.DataFrame({"Day": [next_day[0][0]], "Temperature": [predicted_temp]})"
        "df = pd.concat([df, new_data], ignore_index=True)"

        "# Update X and y to include new data"
        "X = df["Day"].values.reshape(-1, 1)"
        "y = df["Temperature"].values"

        "return df, predictions"

        "# Predict for the next 7 days"
        "days_to_predict = 7"
        "updated_df, predictions = iterative_weather_prediction(days_to_predict, df)"

       "# Display predictions"
       "print("Predicted temperatures for the next 7 days:", predictions)"

       "# Plot the results"
       "plt.figure(figsize=(10, 6))"
       "plt.plot(df["Day"], df["Temperature"], label="Historical Data", marker='o')"
       "predicted_days = np.arange(df["Day"].max() - days_to_predict + 1, df["Day"].max() + 1)"
       "plt.plot(predicted_days, predictions, label="Predictions", marker='x', linestyle='--', color='red')"
       "plt.xlabel("Day")"
       "plt.ylabel("Temperature")"
       "plt.title("Weather Prediction")"
       "plt.legend()"
       "plt.show()"

      ]
    }
  ]
}
