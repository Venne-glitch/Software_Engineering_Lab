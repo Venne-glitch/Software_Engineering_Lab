{
  "nbformat": 4,
  "nbformat_minor": 0,
  "metadata": {
    "colab": {
      "provenance": [],
      "authorship_tag": "ABX9TyOaOIzt6WE8F+0m56vpIpov",
      "include_colab_link": true
    },
    "kernelspec": {
      "name": "python3",
      "display_name": "Python 3"
    },
    "language_info": {
      "name": "python"
    }
  },
  "cells": [
    {
      "cell_type": "markdown",
      "metadata": {
        "id": "view-in-github",
        "colab_type": "text"
      },
      "source": [
        "<a href=\"https://colab.research.google.com/github/Venne-glitch/Software_Engineering_Lab/blob/main/Weather_Prediction_Waterfall_Model.ipynb\" target=\"_parent\"><img src=\"https://colab.research.google.com/assets/colab-badge.svg\" alt=\"Open In Colab\"/></a>"
      ]
    },
    {
      "cell_type": "markdown",
      "source": [
        "**Implement a Weather prediction using the quadratic solution model and use waterfall model (Key-Board Inputs)**"
      ],
      "metadata": {
        "id": "z7sTt1CXCDDQ"
      }
    },
    {
      "cell_type": "code",
      "execution_count": 2,
      "metadata": {
        "id": "uL-QU6pilbCB",
        "colab": {
          "base_uri": "https://localhost:8080/"
        },
        "outputId": "48ad3dee-45e4-4bdd-e1d3-05b61b66dd5a"
      },
      "outputs": [
        {
          "output_type": "stream",
          "name": "stdout",
          "text": [
            "Enter the temperatue: 30\n",
            "Enter the humidity: 50\n",
            "Enter the wind speed: 10\n",
            "For Temperature = 30.0C, Humidity = 50.0%, Wind Speed = 10.0Km/h. The predicted weather is: Sunny\n"
          ]
        }
      ],
      "source": [
        "import math\n",
        "# Phase:1 - Requirement Analysis and Definition\n",
        "Temperature = float(input(\"Enter the temperatue: \"))\n",
        "Humidity = float(input(\"Enter the humidity: \"))\n",
        "Wind_Speed = float(input(\"Enter the wind speed: \"))\n",
        "\n",
        "# Phase:2 - System and Software Design\n",
        "# Designing a function to calculate the roots based on the given inputs for coefficients for the quadratic equation.\n",
        "# The solution will be obtainted using different input methods (in this case: Key-Board Inputs)\n",
        "\n",
        "# Phase:3 - Implementation and Unit-Testing\n",
        "def Weather_Prediction(Temperatur, Humidity, Wind_Speed):\n",
        "  Prediction = 0.5 * Temperature**2 - 0.2*Humidity + 0.1*Wind_Speed - 15\n",
        "  if Prediction > 300:\n",
        "    return \"Sunny\"\n",
        "  elif 200 < Prediction <= 300:\n",
        "    return \"Cloudy\"\n",
        "  elif 100 < Prediction <= 200:\n",
        "    return \"Rainy\"\n",
        "  elif Prediction <= 100:\n",
        "    return \"Stromy\"\n",
        "try:\n",
        "  Predicted_Weather = Weather_Prediction(Temperature, Humidity, Wind_Speed)\n",
        "  print(f\"For Temperature = {Temperature}C, Humidity = {Humidity}%, Wind Speed = {Wind_Speed}Km/h. The predicted weather is: {Predicted_Weather}\")\n",
        "\n",
        "except ValueError as ve:\n",
        "  print(f\"Input validation error: {ve}\")\n",
        "except Exception as e:\n",
        "  print(f\"Unexpected error: {e}\")\n",
        "\n",
        "# Phase:4 - Integration and System testing\n",
        "# After the stage of implementation is implemented:\n",
        "# the system is tested as a whole to ensure that the weather prediction function is providing correct ouput\n",
        "# also works in different stages\n",
        "\n",
        "# Phase:5 - Operation and Maintenance\n",
        "# Once the system is operational, it may needs to be updated or modified\n",
        "# This phase also includes:\n",
        "# Additional input methods\n",
        "# Handling of edge-costs (non-integers, coefficients leading to complex roots)\n",
        "# Ensuring the system runs smoothly across different environments (Supporting complex numbers, adding error handling, etc)\n"
      ]
    }
  ]
}