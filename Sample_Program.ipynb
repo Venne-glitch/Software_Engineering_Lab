{
  "nbformat": 4,
  "nbformat_minor": 0,
  "metadata": {
    "colab": {
      "provenance": [],
      "authorship_tag": "ABX9TyPPrlnPYX5eSsryP/GvgyKO",
      "include_colab_link": true
    },
    "kernelspec": {
      "name": "python3",
      "display_name": "Python 3"
    },
    "language_info": {
      "name": "python"
    }
  },
  "cells": [
    {
      "cell_type": "markdown",
      "metadata": {
        "id": "view-in-github",
        "colab_type": "text"
      },
      "source": [
        "<a href=\"https://colab.research.google.com/github/Venne-glitch/Software_Engineering_Lab/blob/main/Sample_Program.ipynb\" target=\"_parent\"><img src=\"https://colab.research.google.com/assets/colab-badge.svg\" alt=\"Open In Colab\"/></a>"
      ]
    },
    {
      "cell_type": "code",
      "execution_count": null,
      "metadata": {
        "id": "Q2vUOYNx6bhp"
      },
      "outputs": [],
      "source": []
    },
    {
      "cell_type": "code",
      "source": [
        "\n",
        "def add_numbers(num1, num2):\n",
        "    return num1 + num2\n",
        "number1 = float(input(\"Enter the first number: \"))\n",
        "number2 = float(input(\"Enter the second number: \"))\n",
        "result = add_numbers(number1, number2)\n",
        "print(f\"The sum of {number1} and {number2} is: {result}\")\n"
      ],
      "metadata": {
        "id": "LnzaIknx7aqy"
      },
      "execution_count": null,
      "outputs": []
    }
  ]
}